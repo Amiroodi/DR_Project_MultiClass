{
 "cells": [
  {
   "cell_type": "code",
   "execution_count": null,
   "id": "725df17d",
   "metadata": {},
   "outputs": [],
   "source": [
    "! pip install scikit-learn glances nvidia-ml-py pandas matplotlib torchmetrics torchinfo albumentations tensorboard kaggle"
   ]
  },
  {
   "cell_type": "code",
   "execution_count": null,
   "id": "3c7dd4ef",
   "metadata": {},
   "outputs": [],
   "source": [
    "! mkdir ~/.kaggle\n",
    "! cp /workspace/kaggle.json ~/.kaggle/\n",
    "! chmod 600 ~/.kaggle/kaggle.json"
   ]
  },
  {
   "cell_type": "code",
   "execution_count": null,
   "id": "4b5726d1",
   "metadata": {},
   "outputs": [],
   "source": [
    "! kaggle datasets download mariaherrerot/idrid-dataset"
   ]
  },
  {
   "cell_type": "code",
   "execution_count": null,
   "id": "8346bdb8",
   "metadata": {},
   "outputs": [],
   "source": [
    "! kaggle datasets download mariaherrerot/messidor2preprocess"
   ]
  },
  {
   "cell_type": "code",
   "execution_count": null,
   "id": "71bcc764",
   "metadata": {},
   "outputs": [],
   "source": [
    "! kaggle datasets download benjaminwarner/resized-2015-2019-blindness-detection-images"
   ]
  },
  {
   "cell_type": "code",
   "execution_count": null,
   "id": "c9096359",
   "metadata": {},
   "outputs": [],
   "source": [
    "! git clone https://github.com/Amiroodi/DR_Project_MultiClass"
   ]
  },
  {
   "cell_type": "code",
   "execution_count": null,
   "id": "742bad7d",
   "metadata": {},
   "outputs": [],
   "source": [
    "! git clone https://github.com/Amiroodi/DR_Project_Binary"
   ]
  }
 ],
 "metadata": {
  "language_info": {
   "name": "python"
  }
 },
 "nbformat": 4,
 "nbformat_minor": 5
}
